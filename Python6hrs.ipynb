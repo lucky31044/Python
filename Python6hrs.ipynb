{
 "cells": [
  {
   "cell_type": "markdown",
   "metadata": {},
   "source": [
    "Boolean first letter should be capital"
   ]
  },
  {
   "cell_type": "code",
   "execution_count": null,
   "metadata": {},
   "outputs": [],
   "source": [
    "is_publish=True\n",
    "if is_publish:\n",
    "    print(\"hello 'dolly'\")"
   ]
  },
  {
   "cell_type": "code",
   "execution_count": null,
   "metadata": {},
   "outputs": [],
   "source": [
    "def likes(name,color):\n",
    "    print(name+\" likes \"+color )\n",
    "    \n",
    "name=input(\"what's your name\")\n",
    "color=input(\"what's your favourate color\")\n",
    "likes(name,color)"
   ]
  },
  {
   "cell_type": "code",
   "execution_count": null,
   "metadata": {},
   "outputs": [],
   "source": [
    "birth_yr= input(\"What's your birth year\")\n",
    "age=2019-birth_yr\n",
    "print(age)"
   ]
  },
  {
   "cell_type": "code",
   "execution_count": null,
   "metadata": {},
   "outputs": [],
   "source": [
    "birth_yr= input(\"What's your birth year\")\n",
    "age=2019-int(birth_yr)\n",
    "print(type(age))\n",
    "print(age)"
   ]
  },
  {
   "cell_type": "code",
   "execution_count": null,
   "metadata": {},
   "outputs": [],
   "source": [
    "weight_in_kg=input(\"Enter your weight in kg\")\n",
    "weight_in_lb=float(weight_in_kg)/0.45\n",
    "print(weight_in_lb)"
   ]
  },
  {
   "cell_type": "code",
   "execution_count": null,
   "metadata": {},
   "outputs": [],
   "source": [
    "course=\"programmming is fun to do\"\n",
    "print(course[11:-1])"
   ]
  },
  {
   "cell_type": "code",
   "execution_count": null,
   "metadata": {},
   "outputs": [],
   "source": [
    "first=\"Abhinav\"\n",
    "last=\"jain\"\n",
    "msg=f'{first} {last} is a coder'#f is important to use\n",
    "print (msg)"
   ]
  },
  {
   "cell_type": "code",
   "execution_count": null,
   "metadata": {},
   "outputs": [],
   "source": [
    "name='abhinav'\n",
    "print(len(name))\n",
    "print(name.upper())\n",
    "print(name.find('i'))\n",
    "name.replace('a','p')"
   ]
  },
  {
   "cell_type": "code",
   "execution_count": null,
   "metadata": {},
   "outputs": [],
   "source": [
    "is_hot=True\n",
    "is_cold=True\n",
    "\n",
    "if is_hot:\n",
    "    print(\"summer is here\")\n",
    "    \n",
    "elif is_cold:\n",
    "    print(\"winter is here\")\n",
    "    \n",
    "else:\n",
    "    print(\"monsoon is here\")"
   ]
  },
  {
   "cell_type": "code",
   "execution_count": null,
   "metadata": {},
   "outputs": [],
   "source": [
    "income=input(\"What's your income\")\n",
    "if int(income)>100000:\n",
    "    down_payment=0.1*1000000\n",
    "else:\n",
    "    down_payment=0.2*1000000\n",
    "print(f'your down payment is ${down_payment}')    \n"
   ]
  },
  {
   "cell_type": "code",
   "execution_count": null,
   "metadata": {},
   "outputs": [],
   "source": [
    "has_high_Credit=True \n",
    "has_high_income=False\n",
    "\n",
    "if has_high_Credit and not has_high_income:#use of not\n",
    "    print(\"loan granted\")\n",
    "else:\n",
    "    print(\"loan not granted\")\n"
   ]
  },
  {
   "cell_type": "code",
   "execution_count": null,
   "metadata": {},
   "outputs": [],
   "source": [
    "#printing star\n",
    "i=1\n",
    "while i<5:\n",
    "    print('*'*i)\n",
    "    i+=1"
   ]
  },
  {
   "cell_type": "code",
   "execution_count": null,
   "metadata": {},
   "outputs": [],
   "source": [
    "i=0\n",
    "secret_no=9\n",
    "\n",
    "while i<3:\n",
    "    guess=input(\"Enter a guess no.\")\n",
    "    if int(guess)==secret_no:\n",
    "        print(\"it's right\")\n",
    "        break\n",
    "    else:\n",
    "        i+=1\n",
    "else:\n",
    "    print(\"Could'nt Guess\")"
   ]
  },
  {
   "cell_type": "code",
   "execution_count": 3,
   "metadata": {},
   "outputs": [
    {
     "name": "stdout",
     "output_type": "stream",
     "text": [
      ">start\n",
      "car started\n",
      ">stop\n",
      "car stopped\n",
      ">stop\n",
      "Already stopped\n",
      ">start\n",
      "car started\n",
      ">start\n",
      "Already started\n",
      ">quit\n"
     ]
    }
   ],
   "source": [
    "command=\"\"\n",
    "is_started=False\n",
    "while  command!=\"quit\":\n",
    "    command=input(\">\").lower()\n",
    "    if command==\"start\":\n",
    "        if is_started:\n",
    "            print(\"Already started\")\n",
    "        else:\n",
    "            is_started=True\n",
    "            print(\"car started\")\n",
    "      \n",
    "    elif command==\"stop\":\n",
    "        if not is_started:\n",
    "            print(\"Already stopped\")\n",
    "        else:\n",
    "            is_started=False\n",
    "            print(\"car stopped\")\n",
    "    \n",
    "    elif command==\"quit\":\n",
    "        break\n",
    "        \n",
    "    else:\n",
    "        print(\"invaild command\")\n",
    "        \n",
    "        \n",
    "    "
   ]
  },
  {
   "cell_type": "code",
   "execution_count": 11,
   "metadata": {},
   "outputs": [
    {
     "name": "stdout",
     "output_type": "stream",
     "text": [
      "3\n",
      "6\n",
      "9\n",
      "12\n",
      "15\n",
      "18\n",
      "21\n",
      "24\n",
      "27\n",
      "30\n"
     ]
    }
   ],
   "source": [
    "#for loops \n",
    "for item in range(3,31,3):\n",
    "    print (item)"
   ]
  },
  {
   "cell_type": "code",
   "execution_count": 18,
   "metadata": {},
   "outputs": [
    {
     "name": "stdout",
     "output_type": "stream",
     "text": [
      "60\n"
     ]
    }
   ],
   "source": [
    "prices=[10,20,30]\n",
    "total=0\n",
    "for x in prices:\n",
    "    total+=x\n",
    "print (total)"
   ]
  },
  {
   "cell_type": "code",
   "execution_count": 19,
   "metadata": {},
   "outputs": [
    {
     "name": "stdout",
     "output_type": "stream",
     "text": [
      "0 0\n",
      "0 1\n",
      "0 2\n",
      "0 3\n",
      "1 0\n",
      "1 1\n",
      "1 2\n",
      "1 3\n",
      "2 0\n",
      "2 1\n",
      "2 2\n",
      "2 3\n",
      "3 0\n",
      "3 1\n",
      "3 2\n",
      "3 3\n"
     ]
    }
   ],
   "source": [
    "for x in range(4):\n",
    "    for y in range(4):\n",
    "        print(f'{x} {y}')"
   ]
  },
  {
   "cell_type": "code",
   "execution_count": 25,
   "metadata": {},
   "outputs": [
    {
     "name": "stdout",
     "output_type": "stream",
     "text": [
      "*****\n",
      "**\n",
      "*****\n",
      "**\n",
      "**\n"
     ]
    }
   ],
   "source": [
    "item=[5,2,5,2,2]\n",
    "for x in item:\n",
    "    output=''\n",
    "    for y in range(x):\n",
    "        output+='*'\n",
    "    print (output)\n",
    "    "
   ]
  },
  {
   "cell_type": "code",
   "execution_count": 28,
   "metadata": {},
   "outputs": [
    {
     "name": "stdout",
     "output_type": "stream",
     "text": [
      "largest no. is242\n"
     ]
    }
   ],
   "source": [
    "numbers=[33,22,5,1,4,242,4,2]\n",
    "max=numbers[0]\n",
    "\n",
    "for x in numbers:\n",
    "    if x>max:\n",
    "        max=x\n",
    "        \n",
    "print (f\"largest no. is{max}\")\n"
   ]
  },
  {
   "cell_type": "code",
   "execution_count": 33,
   "metadata": {},
   "outputs": [
    {
     "name": "stdout",
     "output_type": "stream",
     "text": [
      " \n",
      "1\n",
      "2\n",
      "3\n",
      " \n",
      "4\n",
      "5\n",
      "6\n",
      " \n",
      "7\n",
      "8\n",
      "9\n"
     ]
    }
   ],
   "source": [
    "matrix=[\n",
    "    [1,2,3],\n",
    "    [4,5,6],\n",
    "    [7,8,9]\n",
    "]\n",
    "\n",
    "for row in matrix:\n",
    "    print(\" \")\n",
    "    for item in row:\n",
    "        print(item)"
   ]
  },
  {
   "cell_type": "markdown",
   "metadata": {},
   "source": [
    "number=[2,42,42,2,4253,5,2,32]\n",
    "number.sort()\n"
   ]
  },
  {
   "cell_type": "code",
   "execution_count": 42,
   "metadata": {},
   "outputs": [],
   "source": [
    "\n",
    "number.sort()"
   ]
  },
  {
   "cell_type": "code",
   "execution_count": 35,
   "metadata": {},
   "outputs": [
    {
     "name": "stdout",
     "output_type": "stream",
     "text": [
      "[2, 2, 2, 5, 32, 42, 42, 4253]\n"
     ]
    }
   ],
   "source": [
    "print(number)"
   ]
  },
  {
   "cell_type": "code",
   "execution_count": 47,
   "metadata": {},
   "outputs": [],
   "source": [
    "unique=[]\n",
    "number=[2,42,42,2,4253,5,2,32] \n",
    "for x in number:\n",
    "    if x not in unique:\n",
    "        unique.append(x)"
   ]
  },
  {
   "cell_type": "code",
   "execution_count": 48,
   "metadata": {},
   "outputs": [
    {
     "name": "stdout",
     "output_type": "stream",
     "text": [
      "[2, 42, 4253, 5, 32]\n"
     ]
    }
   ],
   "source": [
    "print(unique)"
   ]
  },
  {
   "cell_type": "code",
   "execution_count": 57,
   "metadata": {},
   "outputs": [],
   "source": [
    "coordinates=[1,332,3]\n",
    "x=coordinates[0]"
   ]
  },
  {
   "cell_type": "code",
   "execution_count": 59,
   "metadata": {},
   "outputs": [
    {
     "name": "stdout",
     "output_type": "stream",
     "text": [
      "332\n"
     ]
    }
   ],
   "source": [
    "print (y)"
   ]
  },
  {
   "cell_type": "code",
   "execution_count": 58,
   "metadata": {},
   "outputs": [],
   "source": [
    "x,y,z=coordinates#shortcut"
   ]
  },
  {
   "cell_type": "code",
   "execution_count": 66,
   "metadata": {},
   "outputs": [
    {
     "name": "stdout",
     "output_type": "stream",
     "text": [
      "LAX\n"
     ]
    }
   ],
   "source": [
    "#Dictionary\n",
    "Customer={\n",
    "    \"name\":\"Abhinav\",\n",
    "    \"rollno\":1,\n",
    "    \"class\":\"xii - A\",\n",
    "    \"is_student\": False\n",
    "}\n",
    "Customer[\"name\"]=\"LAX\"\n",
    "print(Customer.get(\"name\",\"Ram\"))"
   ]
  },
  {
   "cell_type": "code",
   "execution_count": 71,
   "metadata": {},
   "outputs": [
    {
     "name": "stdout",
     "output_type": "stream",
     "text": [
      "Enter your phone no.12\n",
      "one two \n"
     ]
    }
   ],
   "source": [
    "Numberword={\n",
    "    \"1\":\"one\",\n",
    "    \"2\":\"two\",\n",
    "    \"3\":\"three\",\n",
    "    \"4\":\"four\"\n",
    "}\n",
    "word=''\n",
    "num=input(\"Enter your phone no.\")\n",
    "for x in num:\n",
    "    word+=(Numberword.get(x)+\" \")\n",
    "print(word)"
   ]
  },
  {
   "cell_type": "markdown",
   "metadata": {},
   "source": [
    "# emoji converter\n"
   ]
  },
  {
   "cell_type": "code",
   "execution_count": 80,
   "metadata": {},
   "outputs": [
    {
     "data": {
      "text/plain": [
       "'hello abhi 😀 '"
      ]
     },
     "execution_count": 80,
     "metadata": {},
     "output_type": "execute_result"
    }
   ],
   "source": [
    "def emojifunc(sent):\n",
    "    emoji={\n",
    "        \":)\": \"😀\",\n",
    "        \":(\": \"🙁\",\n",
    "        \"*_*\":\"🤯\"\n",
    "    }\n",
    "    word=''\n",
    "    listt=sent.split(' ')\n",
    "\n",
    "    for x in listt:\n",
    "        word+=(emoji.get(x,x)+' ')\n",
    "    return word\n",
    "emojifunc(\"hello abhi :)\")"
   ]
  },
  {
   "cell_type": "code",
   "execution_count": 78,
   "metadata": {},
   "outputs": [
    {
     "data": {
      "text/plain": [
       "20"
      ]
     },
     "execution_count": 78,
     "metadata": {},
     "output_type": "execute_result"
    }
   ],
   "source": [
    "def cube(num1,num2,num3):\n",
    "    return num1*num2*num3\n",
    "cube(1,num3=4,num2=5)"
   ]
  },
  {
   "cell_type": "markdown",
   "metadata": {},
   "source": [
    "# class"
   ]
  },
  {
   "cell_type": "code",
   "execution_count": null,
   "metadata": {},
   "outputs": [],
   "source": []
  },
  {
   "cell_type": "code",
   "execution_count": 87,
   "metadata": {},
   "outputs": [
    {
     "name": "stdout",
     "output_type": "stream",
     "text": [
      "20\n",
      "draw\n"
     ]
    }
   ],
   "source": [
    "class Point:\n",
    "    def __init__(self,x,y):#constructor to initalize\n",
    "        self.x=x\n",
    "        self.y=y\n",
    "        \n",
    "    def move(self):\n",
    "        print (\"move\")\n",
    "        \n",
    "    def draw(self):#self is important to use\n",
    "        print(\"draw\")\n",
    "point1=Point(10,20)#object creation\n",
    "point1.x=10 #object attribute x\n",
    "\n",
    "print(point1.y)\n",
    "point1.draw() #calling function of class point"
   ]
  },
  {
   "cell_type": "code",
   "execution_count": 90,
   "metadata": {},
   "outputs": [
    {
     "name": "stdout",
     "output_type": "stream",
     "text": [
      "Hi I am john\n"
     ]
    }
   ],
   "source": [
    "class Person:\n",
    "    def __init__(self,name):\n",
    "        self.name=name\n",
    "    \n",
    "    def talk(self):\n",
    "        print(f\"Hi I am {self.name}\")\n",
    "        \n",
    "john=Person(\"john\")\n",
    "john.talk()"
   ]
  },
  {
   "cell_type": "code",
   "execution_count": 101,
   "metadata": {},
   "outputs": [
    {
     "name": "stdout",
     "output_type": "stream",
     "text": [
      "45\n"
     ]
    }
   ],
   "source": [
    "import ut \n",
    "list =[4,5,6,14,45,43,2]\n",
    "max=ut.find_max(list)\n",
    "print(max)"
   ]
  },
  {
   "cell_type": "code",
   "execution_count": 105,
   "metadata": {},
   "outputs": [
    {
     "name": "stdout",
     "output_type": "stream",
     "text": [
      "ram\n"
     ]
    }
   ],
   "source": [
    "import random\n",
    "list=['ram','sita','laxman']\n",
    "leader=random.choice(list)\n",
    "print(leader)"
   ]
  },
  {
   "cell_type": "code",
   "execution_count": 116,
   "metadata": {},
   "outputs": [
    {
     "name": "stdout",
     "output_type": "stream",
     "text": [
      "(5, 6)\n"
     ]
    }
   ],
   "source": [
    "class Dicee:\n",
    "    def roll(self):\n",
    "        first=random.randint(1,6)\n",
    "        second=random.randint(1,6)\n",
    "        return first,second\n",
    "p1=Dicee()\n",
    "print(p1.roll())"
   ]
  },
  {
   "cell_type": "markdown",
   "metadata": {},
   "source": [
    "# Spreadsheets Automation"
   ]
  },
  {
   "cell_type": "code",
   "execution_count": 1,
   "metadata": {},
   "outputs": [],
   "source": [
    "import openpyxl as xl"
   ]
  },
  {
   "cell_type": "code",
   "execution_count": 17,
   "metadata": {},
   "outputs": [],
   "source": [
    "wb=xl.load_workbook('Miniproject_GRoups-DIV-A.xlsx')\n",
    "sheet= wb['Sheet1']"
   ]
  },
  {
   "cell_type": "code",
   "execution_count": 19,
   "metadata": {},
   "outputs": [],
   "source": [
    "for row in range(3,sheet.max_row+1):\n",
    "    cell=sheet.cell(row,2)\n",
    "    roll=cell.value\n",
    "    name=dict.get(roll)\n",
    "    new_cells=sheet.cell(row,5)\n",
    "    new_cells.value=cell.value\n",
    "wb.save('t2.xlsx')\n",
    "    "
   ]
  },
  {
   "cell_type": "code",
   "execution_count": 18,
   "metadata": {},
   "outputs": [],
   "source": [
    "dict={\n",
    "    \"3162001\" : \"Ashwini\",\n",
    "    \"3162002\" : \"Chaitali\",\n",
    "    \"3162003\" : \"Manasi\",\n",
    "    \"3162004\" : \"Shrushti\",\n",
    "    \"3162005\" : \"Rutuja\",\n",
    "    \"3162006\" : \"Kajal\",\n",
    "    \"3162007\" : \"Shubham\",\n",
    "    \"3162008\" : \"Yash\",\n",
    "    \"3162009\" : \"Mohnish\",\n",
    "    \"3162010\" : \"sumeet\",\n",
    "    \"3162011\" : \"Darpan \",\n",
    "    \"3162012\" : \"sarvesh\",\n",
    "    \"3162013\" : \"Simran\",\n",
    "    \"3162014\" : \"Nupoor\",\n",
    "    \"3162015\" : \"Gauri\",\n",
    "    \"3162016\" : \"Advait\",\n",
    "    \"3162017\" : \"Azimhaider\",\n",
    "    \"3162018\" : \"Aditi\",\n",
    "    \"3162019\" : \"vedant\",\n",
    "    \"3162020\" : \"Shaunak\",\n",
    "    \"3162021\" : \"Aditya\",\n",
    "    \"3162022\" : \"Kaushik\",\n",
    "    \"3162023\" : \"Atish\",\n",
    "    \"3162024\" : \"Madhur\",\n",
    "    \"3162025\" : \"Aniruddha\",\n",
    "    \"3162026\" : \"Aabha \",\n",
    "    \"3162027\" : \"Saurabh \",\n",
    "    \"3162028\" : \"Indrajeet\",\n",
    "    \"3162029\" : \"Aboli \",\n",
    "    \"3162030\" : \"Srishti\",\n",
    "    \"3162031\" : \"Pranav\",\n",
    "    \"3162032\" : \"Aniket\",\n",
    "    \"3162033\" : \"Sonali\",\n",
    "    \"3162034\" : \"Yash\",\n",
    "    \"3162035\" : \"Madhur\",\n",
    "    \"3162036\" : \"Prerana \",\n",
    "    \"3162037\" : \"Gaikwad\",\n",
    "    \"3162038\" : \"PRITEE\",\n",
    "    \"3162039\" : \"Aishwarya \",\n",
    "    \"3162040\" : \"AYUSHI\",\n",
    "    \"3162041\" : \"Nilesh \",\n",
    "    \"3162042\" : \"Tejashri \",\n",
    "    \"3162043\" : \"Apoorva\",\n",
    "    \"3162044\" : \"Sanika\",\n",
    "    \"3162045\" : \"Ameya\",\n",
    "    \"3162046\" : \"Kiran\",\n",
    "    \"3162048\" : \"Abhinav\",\n",
    "    \"3162049\" : \"Dhanraj\",\n",
    "    \"3162050\" : \"Musaib\",\n",
    "    \"3162051\" : \"Abhay\",\n",
    "    \"3162052\" : \"Shamik\",\n",
    "    \"3162053\" : \"Abhishek\",\n",
    "    \"3162054\" : \"Devendar\",\n",
    "    \"3162055\" : \"RESHMA\",\n",
    "    \"3162056\" : \"Devyani\",\n",
    "    \"3162057\" : \"Atharva\",\n",
    "    \"3162058\" : \"Swarali \",\n",
    "    \"3162059\" : \"Utkarsh\",\n",
    "    \"3162060\" : \"Vishal\",\n",
    "    \"3162061\" : \"Atharva \",\n",
    "    \"3162062\" : \"Mrunal\",\n",
    "    \"3162064\" : \"Mukul\",\n",
    "    \"3162065\" : \"Rahul \",\n",
    "    \"3162082\" : \"Mruganka\",\n",
    "    \"3172501\" : \"Akash\",\n",
    "    \"3172502\" : \"Shubham\",\n",
    "    \"3172503\" : \"Minal\",\n",
    "    \"3172504\" : \"Prachiti\",\n",
    "    \"3172505\" : \"Gaurav\",\n",
    "    \"3172506\" : \"Harshada\",\n",
    "    \"3172507\" : \"Satish\",\n",
    "    \"3172508\" : \"Apeksha\",\n",
    "    \"3172509\" : \"Kanak\",\n",
    "    \"3172510\" : \"Payal\",\n",
    "    \"3172511\" : \"Siddhant\",\n",
    "    \"3172512\" : \"Shruti\",\n",
    "    \"3172513\" : \"Janaki\",\n",
    "    \"3172514\" : \"Siddhi\",\n",
    "    \"3172515\" : \"Shraddha\",\n",
    "    \"3172516\" : \"Sayali\",\n",
    "    \"3172520\" : \"Tanvi\",\n",
    "    \"3172521\" : \"Sonali\"}"
   ]
  },
  {
   "cell_type": "code",
   "execution_count": 26,
   "metadata": {},
   "outputs": [],
   "source": [
    "from bs4 import BeautifulSoup\n",
    "import requests"
   ]
  },
  {
   "cell_type": "code",
   "execution_count": 51,
   "metadata": {},
   "outputs": [
    {
     "ename": "ValueError",
     "evalue": "could not convert string to float: '₹\\xa01,39'",
     "output_type": "error",
     "traceback": [
      "\u001b[1;31m---------------------------------------------------------------------------\u001b[0m",
      "\u001b[1;31mValueError\u001b[0m                                Traceback (most recent call last)",
      "\u001b[1;32m<ipython-input-51-5852ba2dff9f>\u001b[0m in \u001b[0;36m<module>\u001b[1;34m\u001b[0m\n\u001b[0;32m      6\u001b[0m \u001b[0mtitle\u001b[0m\u001b[1;33m=\u001b[0m\u001b[0msoup\u001b[0m\u001b[1;33m.\u001b[0m\u001b[0mfind\u001b[0m\u001b[1;33m(\u001b[0m\u001b[0mid\u001b[0m\u001b[1;33m=\u001b[0m\u001b[1;34m\"productTitle\"\u001b[0m\u001b[1;33m)\u001b[0m\u001b[1;33m.\u001b[0m\u001b[0mget_text\u001b[0m\u001b[1;33m(\u001b[0m\u001b[1;33m)\u001b[0m\u001b[1;33m\u001b[0m\u001b[1;33m\u001b[0m\u001b[0m\n\u001b[0;32m      7\u001b[0m \u001b[0mprice\u001b[0m\u001b[1;33m=\u001b[0m\u001b[0msoup\u001b[0m\u001b[1;33m.\u001b[0m\u001b[0mfind\u001b[0m\u001b[1;33m(\u001b[0m\u001b[0mid\u001b[0m\u001b[1;33m=\u001b[0m\u001b[1;34m\"priceblock_dealprice\"\u001b[0m\u001b[1;33m)\u001b[0m\u001b[1;33m.\u001b[0m\u001b[0mget_text\u001b[0m\u001b[1;33m(\u001b[0m\u001b[1;33m)\u001b[0m\u001b[1;33m\u001b[0m\u001b[1;33m\u001b[0m\u001b[0m\n\u001b[1;32m----> 8\u001b[1;33m \u001b[0mcv_price\u001b[0m\u001b[1;33m=\u001b[0m\u001b[0mfloat\u001b[0m\u001b[1;33m(\u001b[0m\u001b[0mprice\u001b[0m\u001b[1;33m[\u001b[0m\u001b[1;36m0\u001b[0m\u001b[1;33m:\u001b[0m\u001b[1;36m6\u001b[0m\u001b[1;33m]\u001b[0m\u001b[1;33m)\u001b[0m\u001b[1;33m\u001b[0m\u001b[1;33m\u001b[0m\u001b[0m\n\u001b[0m\u001b[0;32m      9\u001b[0m \u001b[0mprint\u001b[0m \u001b[1;33m(\u001b[0m\u001b[0mprice\u001b[0m\u001b[1;33m)\u001b[0m\u001b[1;33m\u001b[0m\u001b[1;33m\u001b[0m\u001b[0m\n\u001b[0;32m     10\u001b[0m \u001b[0mprint\u001b[0m\u001b[1;33m(\u001b[0m\u001b[0mtitle\u001b[0m\u001b[1;33m.\u001b[0m\u001b[0mstrip\u001b[0m\u001b[1;33m(\u001b[0m\u001b[1;33m)\u001b[0m\u001b[1;33m)\u001b[0m\u001b[1;33m\u001b[0m\u001b[1;33m\u001b[0m\u001b[0m\n",
      "\u001b[1;31mValueError\u001b[0m: could not convert string to float: '₹\\xa01,39'"
     ]
    }
   ],
   "source": [
    "headers={'User-Agent':'Mozilla/5.0 (Windows NT 10.0; Win64; x64) AppleWebKit/537.36 (KHTML, like Gecko) Chrome/76.0.3809.132 Safari/537.36'}\n",
    "url='https://www.amazon.in/255-Bluetooth-Wireless-Earphone-Immersive/dp/B07C2VJXP4/ref=sr_1_2?crid=1GXFGB7O23H5C&keywords=boat+headset+wireless&qid=1567179560&s=gateway&smid=A14CZOWI0VEHLG&sprefix=boat+headset+w%2Caps%2C304&sr=8-2'\n",
    "\n",
    "page=requests.get(url,headers=headers)\n",
    "soup=BeautifulSoup(page.content,'html.parser')\n",
    "title=soup.find(id=\"productTitle\").get_text()\n",
    "price=soup.find(id=\"priceblock_dealprice\").get_text()\n",
    "cv_price=float(price[0:6])\n",
    "print (price)\n",
    "print(title.strip())"
   ]
  },
  {
   "cell_type": "code",
   "execution_count": 39,
   "metadata": {},
   "outputs": [],
   "source": [
    "import smtplib\n"
   ]
  },
  {
   "cell_type": "code",
   "execution_count": 49,
   "metadata": {},
   "outputs": [],
   "source": [
    "def send_mail():\n",
    "    server=smtplib.SMTP('smtp.gmail.com',587)\n",
    "    server.ehlo()\n",
    "    server.starttls()\n",
    "    server.ehlo()\n",
    "    server.login('jain.abhinav14@gmail.com','qgqkimoklrqlzabc')\n",
    "    subject='Hey Abhinav2'\n",
    "    body='https://www.amazon.in/255-Bluetooth-Wireless-Earphone-Immersive/dp/B07C2VJXP4/ref=sr_1_2?crid=1GXFGB7O23H5C&keywords=boat+headset+wireless&qid=1567179560&s=gateway&smid=A14CZOWI0VEHLG&sprefix=boat+headset+w%2Caps%2C304&sr=8-2'\n",
    "    msg=f\"Subject:{subject}\\n\\n{body}\"\n",
    "    server.sendmail('jain.abhinav14@gmail.com','rocklucky5g@gmail.com',msg)\n",
    "    print(\"Email sent\")\n"
   ]
  },
  {
   "cell_type": "code",
   "execution_count": 50,
   "metadata": {},
   "outputs": [
    {
     "name": "stdout",
     "output_type": "stream",
     "text": [
      "Email sent\n"
     ]
    }
   ],
   "source": [
    "send_mail()"
   ]
  },
  {
   "cell_type": "code",
   "execution_count": null,
   "metadata": {},
   "outputs": [],
   "source": []
  }
 ],
 "metadata": {
  "kernelspec": {
   "display_name": "Python 3",
   "language": "python",
   "name": "python3"
  },
  "language_info": {
   "codemirror_mode": {
    "name": "ipython",
    "version": 3
   },
   "file_extension": ".py",
   "mimetype": "text/x-python",
   "name": "python",
   "nbconvert_exporter": "python",
   "pygments_lexer": "ipython3",
   "version": "3.7.3"
  }
 },
 "nbformat": 4,
 "nbformat_minor": 2
}
